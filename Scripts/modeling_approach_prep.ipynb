{
 "cells": [
  {
   "cell_type": "markdown",
   "metadata": {},
   "source": [
    "## Performing some EDA to inform modeling approach"
   ]
  },
  {
   "cell_type": "markdown",
   "metadata": {},
   "source": [
    "### Let's group directors based on average film revenue:"
   ]
  },
  {
   "cell_type": "code",
   "execution_count": 6,
   "metadata": {},
   "outputs": [
    {
     "name": "stdout",
     "output_type": "stream",
     "text": [
      "director\n",
      "Chris Buck         1,274,219,009\n",
      "Kyle Balda         1,156,730,962\n",
      "Lee Unkrich        1,066,969,703\n",
      "Joss Whedon          987,943,689\n",
      "Chris Renaud         875,958,308\n",
      "James Cameron        840,509,920\n",
      "Roger Allers         788,241,776\n",
      "Tim Miller           783,112,979\n",
      "Colin Trevorrow      758,768,301\n",
      "Robert Stromberg     758,539,785\n",
      "Pierre Coffin        757,137,935\n",
      "Dan Scanlon          743,559,607\n",
      "David Yates          742,971,665\n",
      "Peter Jackson        722,071,424\n",
      "Pete Docter          718,508,837\n",
      "Chris Miller         676,972,821\n",
      "George Lucas         667,822,779\n",
      "Carlos Saldanha      633,112,948\n",
      "Jan Pinkava          623,722,818\n",
      "Shane Black          615,612,571\n",
      "Name: revenue, dtype: float64\n"
     ]
    }
   ],
   "source": [
    "import pandas as pd\n",
    "\n",
    "# Load the CSV file\n",
    "df = pd.read_csv('/workspace/DS3001-Project1/Data/movie_dataset.csv')\n",
    "\n",
    "# Group by director and calculate average revenue\n",
    "average_revenue_by_director = df.groupby('director')['revenue'].mean()\n",
    "\n",
    "# Sort directors by average revenue in descending order and select the top 20\n",
    "top_20_directors = average_revenue_by_director.sort_values(ascending=False).head(20)\n",
    "\n",
    "# Print the result\n",
    "pd.set_option('display.float_format', '{:,.0f}'.format)\n",
    "print(top_20_directors)\n",
    "\n"
   ]
  },
  {
   "cell_type": "code",
   "execution_count": 7,
   "metadata": {},
   "outputs": [
    {
     "name": "stdout",
     "output_type": "stream",
     "text": [
      "director\n",
      "Dean DeBlois          609,123,048\n",
      "Jennifer Yuh Nelson   593,431,553\n",
      "Byron Howard          591,794,936\n",
      "Francis Lawrence      590,491,436\n",
      "Richard Marquand      572,700,000\n",
      "Steve Martino         561,738,948\n",
      "Alan Taylor           542,587,470\n",
      "Brenda Chapman        538,983,207\n",
      "Christopher Nolan     528,435,404\n",
      "Andrew Stanton        527,261,339\n",
      "David Silverman       527,068,851\n",
      "Andrew Adamson        521,371,889\n",
      "Marc Webb             506,218,674\n",
      "Anthony Russo         499,625,609\n",
      "Michael Bay           486,043,720\n",
      "Chris Williams        481,042,718\n",
      "John Lasseter         473,189,112\n",
      "Rich Moore            471,222,889\n",
      "Gore Verbinski        453,859,051\n",
      "Conrad Vernon         423,061,254\n",
      "Name: revenue, dtype: float64\n"
     ]
    }
   ],
   "source": [
    "import pandas as pd\n",
    "\n",
    "# Load the CSV file\n",
    "df = pd.read_csv('/workspace/DS3001-Project1/Data/movie_dataset.csv')\n",
    "\n",
    "# Group by director and calculate average revenue\n",
    "average_revenue_by_director = df.groupby('director')['revenue'].mean()\n",
    "\n",
    "# Sort directors by average revenue in descending order and select ranks 20 to 40\n",
    "directors_20_to_40 = average_revenue_by_director.sort_values(ascending=False).iloc[20:40]\n",
    "\n",
    "# Print the result with full numbers and commas\n",
    "pd.set_option('display.float_format', '{:,.0f}'.format)\n",
    "print(directors_20_to_40)\n"
   ]
  },
  {
   "cell_type": "code",
   "execution_count": 9,
   "metadata": {},
   "outputs": [
    {
     "name": "stdout",
     "output_type": "stream",
     "text": [
      "director\n",
      "Eric Darnell          420,472,746\n",
      "Chris Sanders         408,609,738\n",
      "Jon Favreau           403,142,372\n",
      "Alfonso Cuar\\u00f3n   402,443,426\n",
      "Rupert Sanders        396,600,000\n",
      "Brad Bird             389,617,275\n",
      "Sam Mendes            387,649,830\n",
      "J.J. Abrams           377,747,923\n",
      "Roland Emmerich       369,602,630\n",
      "Mark Osborne          364,657,905\n",
      "Phyllida Lloyd        362,399,168\n",
      "Rob Marshall          356,292,277\n",
      "Ralph Zondag          354,248,063\n",
      "Zack Snyder           353,742,484\n",
      "Bryan Singer          351,029,375\n",
      "Fergal Reilly         349,779,543\n",
      "Irvin Kershner        349,200,000\n",
      "Mike Gabriel          346,079,773\n",
      "Joseph Kosinski       343,115,668\n",
      "Steven Spielberg      338,792,339\n",
      "Name: revenue, dtype: float64\n"
     ]
    }
   ],
   "source": [
    "import pandas as pd\n",
    "\n",
    "# Load the CSV file\n",
    "df = pd.read_csv('/workspace/DS3001-Project1/Data/movie_dataset.csv')\n",
    "\n",
    "# Group by director and calculate average revenue\n",
    "average_revenue_by_director = df.groupby('director')['revenue'].mean()\n",
    "\n",
    "# Sort directors by average revenue in descending order and select ranks 20 to 40\n",
    "directors_40_to_60 = average_revenue_by_director.sort_values(ascending=False).iloc[40:60]\n",
    "\n",
    "# Print the result with full numbers and commas\n",
    "pd.set_option('display.float_format', '{:,.0f}'.format)\n",
    "print(directors_40_to_60)"
   ]
  }
 ],
 "metadata": {
  "kernelspec": {
   "display_name": "Python 3",
   "language": "python",
   "name": "python3"
  },
  "language_info": {
   "codemirror_mode": {
    "name": "ipython",
    "version": 3
   },
   "file_extension": ".py",
   "mimetype": "text/x-python",
   "name": "python",
   "nbconvert_exporter": "python",
   "pygments_lexer": "ipython3",
   "version": "3.12.6"
  }
 },
 "nbformat": 4,
 "nbformat_minor": 2
}
